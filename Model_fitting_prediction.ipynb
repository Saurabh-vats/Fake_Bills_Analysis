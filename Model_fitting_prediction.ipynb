{
 "cells": [
  {
   "cell_type": "code",
   "execution_count": 6,
   "id": "faa8cd11",
   "metadata": {},
   "outputs": [],
   "source": [
    "\n",
    "# droping margin_low \n",
    "X=data.iloc[:,[1,2,3,5,6]].values\n",
    "Y=data.iloc[:,0].values\n",
    "\n"
   ]
  },
  {
   "cell_type": "code",
   "execution_count": 7,
   "id": "88058b35",
   "metadata": {},
   "outputs": [
    {
     "data": {
      "text/plain": [
       "array([[-0.48653957,  2.77412327,  3.16324041, -1.128325  ,  0.17365114],\n",
       "       [-1.63372936, -2.23653528, -0.79966777, -0.69679916,  0.47166629],\n",
       "       [ 2.3978233 ,  1.50475644, -1.29119126, -0.91256208,  0.55190114],\n",
       "       ...,\n",
       "       [-0.51931643, -0.06524991,  0.61346228,  0.89984645, -0.83501554],\n",
       "       [ 0.3328817 ,  0.83666863,  0.42914097,  1.33137229, -0.4911519 ],\n",
       "       [-1.6009525 ,  0.40241156, -0.30814427,  0.94299904, -0.69747008]])"
      ]
     },
     "execution_count": 7,
     "metadata": {},
     "output_type": "execute_result"
    }
   ],
   "source": [
    "\n",
    "# fitting scaler \n",
    "from sklearn.preprocessing import StandardScaler\n",
    "ss=StandardScaler()\n",
    "X=ss.fit_transform(X)\n",
    "X\n"
   ]
  },
  {
   "cell_type": "code",
   "execution_count": 8,
   "id": "07cff59c",
   "metadata": {},
   "outputs": [],
   "source": [
    "\n",
    "\n",
    "# spliting data\n",
    "from sklearn.model_selection import train_test_split \n",
    "X_train,X_test,Y_train,Y_test=train_test_split(X,Y,train_size=0.8)\n",
    "\n"
   ]
  },
  {
   "cell_type": "code",
   "execution_count": 9,
   "id": "fb1fa20b",
   "metadata": {},
   "outputs": [
    {
     "name": "stdout",
     "output_type": "stream",
     "text": [
      "Best params  {'algorithm': 'auto', 'leaf_size': 10, 'metric': 'euclidean', 'n_neighbors': 8, 'weights': 'uniform'}\n",
      "Best score: 0.9716666666666667\n"
     ]
    },
    {
     "name": "stderr",
     "output_type": "stream",
     "text": [
      "C:\\ProgramData\\anaconda3\\Lib\\site-packages\\sklearn\\model_selection\\_validation.py:425: FitFailedWarning: \n",
      "1200 fits failed out of a total of 1440.\n",
      "The score on these train-test partitions for these parameters will be set to nan.\n",
      "If these failures are not expected, you can try to debug them by setting error_score='raise'.\n",
      "\n",
      "Below are more details about the failures:\n",
      "--------------------------------------------------------------------------------\n",
      "240 fits failed with the following error:\n",
      "Traceback (most recent call last):\n",
      "  File \"C:\\ProgramData\\anaconda3\\Lib\\site-packages\\sklearn\\model_selection\\_validation.py\", line 732, in _fit_and_score\n",
      "    estimator.fit(X_train, y_train, **fit_params)\n",
      "  File \"C:\\ProgramData\\anaconda3\\Lib\\site-packages\\sklearn\\base.py\", line 1144, in wrapper\n",
      "    estimator._validate_params()\n",
      "  File \"C:\\ProgramData\\anaconda3\\Lib\\site-packages\\sklearn\\base.py\", line 637, in _validate_params\n",
      "    validate_parameter_constraints(\n",
      "  File \"C:\\ProgramData\\anaconda3\\Lib\\site-packages\\sklearn\\utils\\_param_validation.py\", line 95, in validate_parameter_constraints\n",
      "    raise InvalidParameterError(\n",
      "sklearn.utils._param_validation.InvalidParameterError: The 'weights' parameter of KNeighborsClassifier must be a str among {'distance', 'uniform'}, a callable or None. Got 'diatance' instead.\n",
      "\n",
      "--------------------------------------------------------------------------------\n",
      "480 fits failed with the following error:\n",
      "Traceback (most recent call last):\n",
      "  File \"C:\\ProgramData\\anaconda3\\Lib\\site-packages\\sklearn\\model_selection\\_validation.py\", line 732, in _fit_and_score\n",
      "    estimator.fit(X_train, y_train, **fit_params)\n",
      "  File \"C:\\ProgramData\\anaconda3\\Lib\\site-packages\\sklearn\\base.py\", line 1144, in wrapper\n",
      "    estimator._validate_params()\n",
      "  File \"C:\\ProgramData\\anaconda3\\Lib\\site-packages\\sklearn\\base.py\", line 637, in _validate_params\n",
      "    validate_parameter_constraints(\n",
      "  File \"C:\\ProgramData\\anaconda3\\Lib\\site-packages\\sklearn\\utils\\_param_validation.py\", line 95, in validate_parameter_constraints\n",
      "    raise InvalidParameterError(\n",
      "sklearn.utils._param_validation.InvalidParameterError: The 'metric' parameter of KNeighborsClassifier must be a str among {'l2', 'infinity', 'jaccard', 'rogerstanimoto', 'sqeuclidean', 'yule', 'hamming', 'dice', 'chebyshev', 'russellrao', 'p', 'precomputed', 'cityblock', 'manhattan', 'mahalanobis', 'pyfunc', 'l1', 'braycurtis', 'haversine', 'cosine', 'minkowski', 'correlation', 'sokalsneath', 'seuclidean', 'canberra', 'nan_euclidean', 'sokalmichener', 'euclidean'} or a callable. Got 'manhatten' instead.\n",
      "\n",
      "--------------------------------------------------------------------------------\n",
      "480 fits failed with the following error:\n",
      "Traceback (most recent call last):\n",
      "  File \"C:\\ProgramData\\anaconda3\\Lib\\site-packages\\sklearn\\model_selection\\_validation.py\", line 732, in _fit_and_score\n",
      "    estimator.fit(X_train, y_train, **fit_params)\n",
      "  File \"C:\\ProgramData\\anaconda3\\Lib\\site-packages\\sklearn\\base.py\", line 1144, in wrapper\n",
      "    estimator._validate_params()\n",
      "  File \"C:\\ProgramData\\anaconda3\\Lib\\site-packages\\sklearn\\base.py\", line 637, in _validate_params\n",
      "    validate_parameter_constraints(\n",
      "  File \"C:\\ProgramData\\anaconda3\\Lib\\site-packages\\sklearn\\utils\\_param_validation.py\", line 95, in validate_parameter_constraints\n",
      "    raise InvalidParameterError(\n",
      "sklearn.utils._param_validation.InvalidParameterError: The 'metric' parameter of KNeighborsClassifier must be a str among {'l2', 'infinity', 'jaccard', 'rogerstanimoto', 'sqeuclidean', 'yule', 'hamming', 'dice', 'chebyshev', 'russellrao', 'p', 'precomputed', 'cityblock', 'manhattan', 'mahalanobis', 'pyfunc', 'l1', 'braycurtis', 'haversine', 'cosine', 'minkowski', 'correlation', 'sokalsneath', 'seuclidean', 'canberra', 'nan_euclidean', 'sokalmichener', 'euclidean'} or a callable. Got 'minikowski' instead.\n",
      "\n",
      "  warnings.warn(some_fits_failed_message, FitFailedWarning)\n",
      "C:\\ProgramData\\anaconda3\\Lib\\site-packages\\sklearn\\model_selection\\_search.py:976: UserWarning: One or more of the test scores are non-finite: [0.96666667        nan 0.97166667        nan 0.97083333        nan\n",
      " 0.96166667        nan        nan        nan        nan        nan\n",
      "        nan        nan        nan        nan        nan        nan\n",
      "        nan        nan        nan        nan        nan        nan\n",
      " 0.96666667        nan 0.97166667        nan 0.97083333        nan\n",
      " 0.96166667        nan        nan        nan        nan        nan\n",
      "        nan        nan        nan        nan        nan        nan\n",
      "        nan        nan        nan        nan        nan        nan\n",
      " 0.96666667        nan 0.97166667        nan 0.97083333        nan\n",
      " 0.96166667        nan        nan        nan        nan        nan\n",
      "        nan        nan        nan        nan        nan        nan\n",
      "        nan        nan        nan        nan        nan        nan\n",
      " 0.96666667        nan 0.97166667        nan 0.97083333        nan\n",
      " 0.96166667        nan        nan        nan        nan        nan\n",
      "        nan        nan        nan        nan        nan        nan\n",
      "        nan        nan        nan        nan        nan        nan\n",
      " 0.96666667        nan 0.97166667        nan 0.97083333        nan\n",
      " 0.96166667        nan        nan        nan        nan        nan\n",
      "        nan        nan        nan        nan        nan        nan\n",
      "        nan        nan        nan        nan        nan        nan\n",
      " 0.96666667        nan 0.97166667        nan 0.97083333        nan\n",
      " 0.96166667        nan        nan        nan        nan        nan\n",
      "        nan        nan        nan        nan        nan        nan\n",
      "        nan        nan        nan        nan        nan        nan\n",
      " 0.96666667        nan 0.97166667        nan 0.97083333        nan\n",
      " 0.96166667        nan        nan        nan        nan        nan\n",
      "        nan        nan        nan        nan        nan        nan\n",
      "        nan        nan        nan        nan        nan        nan\n",
      " 0.96666667        nan 0.97166667        nan 0.97083333        nan\n",
      " 0.96166667        nan        nan        nan        nan        nan\n",
      "        nan        nan        nan        nan        nan        nan\n",
      "        nan        nan        nan        nan        nan        nan\n",
      " 0.96666667        nan 0.97166667        nan 0.97083333        nan\n",
      " 0.96166667        nan        nan        nan        nan        nan\n",
      "        nan        nan        nan        nan        nan        nan\n",
      "        nan        nan        nan        nan        nan        nan\n",
      " 0.96666667        nan 0.97166667        nan 0.97083333        nan\n",
      " 0.96166667        nan        nan        nan        nan        nan\n",
      "        nan        nan        nan        nan        nan        nan\n",
      "        nan        nan        nan        nan        nan        nan\n",
      " 0.96666667        nan 0.97166667        nan 0.97083333        nan\n",
      " 0.96166667        nan        nan        nan        nan        nan\n",
      "        nan        nan        nan        nan        nan        nan\n",
      "        nan        nan        nan        nan        nan        nan\n",
      " 0.96666667        nan 0.97166667        nan 0.97083333        nan\n",
      " 0.96166667        nan        nan        nan        nan        nan\n",
      "        nan        nan        nan        nan        nan        nan\n",
      "        nan        nan        nan        nan        nan        nan]\n",
      "  warnings.warn(\n"
     ]
    }
   ],
   "source": [
    "\n",
    "## Using KNN\n",
    "\n",
    "from sklearn.neighbors import KNeighborsClassifier\n",
    "\n",
    "\n",
    "KNN=KNeighborsClassifier()\n",
    "\n",
    "# Hyperparameterization \n",
    "\n",
    "from sklearn.model_selection import GridSearchCV\n",
    "\n",
    "params={\n",
    "    'n_neighbors':[5,8,11,15],\n",
    "    'metric':['euclidean','manhatten','minikowski'],\n",
    "    'weights':['uniform','diatance'],\n",
    "    'algorithm':['auto','ball_tree','kd_tree'],\n",
    "    'leaf_size':[10,15,20,25]    \n",
    "}\n",
    "\n",
    "grid_search=GridSearchCV(estimator=KNN,param_grid=params,cv=5,scoring='accuracy')\n",
    "\n",
    "\n",
    "\n",
    "grid_search.fit(X_train,Y_train)\n",
    "\n",
    "import warnings\n",
    "warnings.filterwarnings(\"ignore\")\n",
    "\n",
    "print('Best params ',grid_search.best_params_)\n",
    "print(\"Best score:\", grid_search.best_score_)\n"
   ]
  },
  {
   "cell_type": "code",
   "execution_count": 10,
   "id": "847dc807",
   "metadata": {},
   "outputs": [],
   "source": [
    "# use the params \n",
    "knn=KNeighborsClassifier(algorithm='auto', leaf_size= 10, metric= 'euclidean', n_neighbors= 11, weights= 'uniform')\n",
    "knn.fit(X_train,Y_train)\n",
    "Y_pred=knn.predict(X_test)\n",
    "\n"
   ]
  },
  {
   "cell_type": "code",
   "execution_count": 11,
   "id": "5ae0685b",
   "metadata": {},
   "outputs": [
    {
     "name": "stdout",
     "output_type": "stream",
     "text": [
      "Accuracy :  0.9666666666666667\n",
      "Confusion Matrix :\n",
      "[[ 91   8]\n",
      " [  2 199]]\n",
      "\n",
      "\n",
      "Classification Report :\n",
      "              precision    recall  f1-score   support\n",
      "\n",
      "       False       0.98      0.92      0.95        99\n",
      "        True       0.96      0.99      0.98       201\n",
      "\n",
      "    accuracy                           0.97       300\n",
      "   macro avg       0.97      0.95      0.96       300\n",
      "weighted avg       0.97      0.97      0.97       300\n",
      "\n"
     ]
    }
   ],
   "source": [
    "\n",
    "from sklearn.metrics import confusion_matrix,classification_report,accuracy_score\n",
    "\n",
    "print('Accuracy : ',accuracy_score(Y_test,Y_pred))\n",
    "\n",
    "print('Confusion Matrix :')\n",
    "print(confusion_matrix(Y_test,Y_pred))\n",
    "print('\\n')\n",
    "print('Classification Report :')\n",
    "print(classification_report(Y_test,Y_pred))\n"
   ]
  },
  {
   "cell_type": "markdown",
   "id": "aa96acd2",
   "metadata": {},
   "source": [
    "## predictions "
   ]
  },
  {
   "cell_type": "code",
   "execution_count": 13,
   "id": "b58f4f80",
   "metadata": {},
   "outputs": [
    {
     "name": "stdout",
     "output_type": "stream",
     "text": [
      "Is the bill is genuine : [ True]\n"
     ]
    }
   ],
   "source": [
    "\n",
    "#diagonal\theight_left\theight_right\t\tmargin_up\tlength\n",
    "test=[[171.00,104.90,104.80,2.80,111.80]]\n",
    "test_data=ss.fit_transform(test)\n",
    "genuine=knn.predict(test_data)\n",
    "print('Is the bill is genuine :',genuine)"
   ]
  }
 ],
 "metadata": {
  "kernelspec": {
   "display_name": "Python 3 (ipykernel)",
   "language": "python",
   "name": "python3"
  },
  "language_info": {
   "codemirror_mode": {
    "name": "ipython",
    "version": 3
   },
   "file_extension": ".py",
   "mimetype": "text/x-python",
   "name": "python",
   "nbconvert_exporter": "python",
   "pygments_lexer": "ipython3",
   "version": "3.11.5"
  }
 },
 "nbformat": 4,
 "nbformat_minor": 5
}
